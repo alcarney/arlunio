{
 "cells": [
  {
   "cell_type": "code",
   "execution_count": 50,
   "metadata": {},
   "outputs": [],
   "source": [
    "import numpy as np\n",
    "from stylo.domain import UnitSquare\n",
    "from stylo.domain.transform import RealDomainTransform\n",
    "from stylo.domain._factory import define_domain\n",
    "from stylo.shape import Shape\n",
    "from stylo.color import FillColor\n",
    "from stylo.image import LayeredImage\n",
    "\n",
    "%matplotlib inline"
   ]
  },
  {
   "cell_type": "code",
   "execution_count": 2,
   "metadata": {},
   "outputs": [],
   "source": [
    "IntegerLattice = define_domain(\"IntegerLattice\", \"n\")"
   ]
  },
  {
   "cell_type": "code",
   "execution_count": 49,
   "metadata": {},
   "outputs": [],
   "source": [
    "class NaturalNumbers(IntegerLattice):\n",
    "        \n",
    "    def _get_n(self):\n",
    "        \n",
    "        def mk_ns(width, height):\n",
    "            N = width*height\n",
    "            ns = (np.arange(N) + 1)[::-1]\n",
    "            ns = ns.reshape((height, width))\n",
    "            \n",
    "            return ns\n",
    "            \n",
    "        return mk_ns"
   ]
  },
  {
   "cell_type": "code",
   "execution_count": 167,
   "metadata": {},
   "outputs": [],
   "source": [
    "class Modulo(Shape):\n",
    "    \n",
    "    def __init__(self, n):\n",
    "        self.n = n\n",
    "    \n",
    "    def draw(self):\n",
    "        \n",
    "        mod = self.n\n",
    "        \n",
    "        def modulo(n):\n",
    "            return (n % mod) == 0\n",
    "        \n",
    "        return modulo"
   ]
  },
  {
   "cell_type": "code",
   "execution_count": 253,
   "metadata": {},
   "outputs": [],
   "source": [
    "grid = NaturalNumbers()\n",
    "rule = Modulo(16) ^ Modulo(5)\n",
    "color = FillColor()"
   ]
  },
  {
   "cell_type": "code",
   "execution_count": 254,
   "metadata": {},
   "outputs": [
    {
     "data": {
      "image/png": "[encoded data removed]",
      "text/plain": [
       "<Figure size 864x864 with 1 Axes>"
      ]
     },
     "metadata": {
      "needs_background": "light"
     },
     "output_type": "display_data"
    }
   ],
   "source": [
    "image = LayeredImage()\n",
    "image.add_layer(rule, color, domain=grid)\n",
    "image(82, 80);"
   ]
  },
  {
   "cell_type": "code",
   "execution_count": 19,
   "metadata": {},
   "outputs": [
    {
     "data": {
      "text/plain": [
       "(4, 8)"
      ]
     },
     "execution_count": 19,
     "metadata": {},
     "output_type": "execute_result"
    }
   ],
   "source": [
    "UnitSquare().x(8, 4).shape"
   ]
  },
  {
   "cell_type": "code",
   "execution_count": 99,
   "metadata": {},
   "outputs": [],
   "source": [
    "import numpy.random as npr\n",
    "from stylo.shape import Circle, Square\n",
    "\n",
    "class XScrambler(RealDomainTransform):\n",
    "    \n",
    "    def __init__(self, domain, seed):\n",
    "        super().__init__(domain)\n",
    "        self.seed = seed\n",
    "        \n",
    "    def _repr(self):\n",
    "        return \"XScrambler: Seed({})\".format(self.seed)\n",
    "    \n",
    "    def _get_x(self):\n",
    "        xs = self.domain.x\n",
    "        \n",
    "        def mk_xs(width, height):\n",
    "            npr.seed(self.seed)\n",
    "            x = xs(width, height).reshape(width*height)\n",
    "            npr.shuffle(x)\n",
    "            \n",
    "            x = x.reshape((height, width))\n",
    "            \n",
    "            return x\n",
    "            \n",
    "        return mk_xs\n",
    "    \n",
    "    def _get_y(self):\n",
    "        return self.domain.y\n",
    "        \n",
    "    def _get_r(self):\n",
    "        return self.domain.r\n",
    "\n",
    "    def _get_t(self):\n",
    "        return self.domain.t\n",
    "        \n",
    "\n",
    "xscrambler = XScrambler(UnitSquare(), 123)"
   ]
  },
  {
   "cell_type": "code",
   "execution_count": 90,
   "metadata": {},
   "outputs": [
    {
     "data": {
      "text/plain": [
       "RScrambler: Seed(34)\n",
       "  SquareDomain: [-1, 1] x [-1, 1]"
      ]
     },
     "execution_count": 90,
     "metadata": {},
     "output_type": "execute_result"
    }
   ],
   "source": [
    "from stylo.domain.helpers import CartesianConversion\n",
    "from stylo.domain import SquareDomain\n",
    "\n",
    "class RScrambler(CartesianConversion, RealDomainTransform):\n",
    "    \n",
    "    def __init__(self, domain, seed):\n",
    "        super().__init__(domain)\n",
    "        self.seed = seed\n",
    "        \n",
    "    def _repr(self):\n",
    "        return \"RScrambler: Seed({})\".format(self.seed)\n",
    "    \n",
    "    def _get_r(self):\n",
    "        rs = self.domain.r\n",
    "        \n",
    "        def mk_rs(width, height):\n",
    "            npr.seed(self.seed)\n",
    "            r = rs(width, height)\n",
    "            npr.shuffle(r)\n",
    "            return r\n",
    "            \n",
    "        return mk_rs\n",
    "\n",
    "    def _get_t(self):\n",
    "        return self.domain.t\n",
    "\n",
    "domain = SquareDomain(-1, 1)\n",
    "rscrambler = RScrambler(domain, 34)\n",
    "rscrambler"
   ]
  },
  {
   "cell_type": "code",
   "execution_count": 102,
   "metadata": {},
   "outputs": [
    {
     "data": {
      "text/plain": [
       "TScrambler: Seed(334)\n",
       "  SquareDomain: [-1, 1] x [-1, 1]"
      ]
     },
     "execution_count": 102,
     "metadata": {},
     "output_type": "execute_result"
    }
   ],
   "source": [
    "\n",
    "class TScrambler(CartesianConversion, RealDomainTransform):\n",
    "    \n",
    "    def __init__(self, domain, seed):\n",
    "        super().__init__(domain)\n",
    "        self.seed = seed\n",
    "        \n",
    "    def _repr(self):\n",
    "        return \"TScrambler: Seed({})\".format(self.seed)\n",
    "    \n",
    "    def _get_t(self):\n",
    "        ts = self.domain.t\n",
    "        \n",
    "        def mk_ts(width, height):\n",
    "            npr.seed(self.seed)\n",
    "            t = ts(width, height)\n",
    "            npr.shuffle(t)\n",
    "            return t\n",
    "            \n",
    "        return mk_ts\n",
    "\n",
    "    def _get_r(self):\n",
    "        return self.domain.r\n",
    "    \n",
    "domain = SquareDomain(-1, 1)\n",
    "tscrambler = TScrambler(domain, 334)\n",
    "tscrambler"
   ]
  },
  {
   "cell_type": "code",
   "execution_count": 103,
   "metadata": {
    "scrolled": true
   },
   "outputs": [
    {
     "data": {
      "text/plain": [
       "array([[-1.        , -0.33333333,  0.33333333,  1.        ],\n",
       "       [-1.34164079, -0.74535599,  0.74535599,  1.34164079],\n",
       "       [-1.        , -0.33333333,  0.33333333,  1.        ],\n",
       "       [-0.74535599, -0.1490712 ,  0.1490712 ,  0.74535599]])"
      ]
     },
     "execution_count": 103,
     "metadata": {},
     "output_type": "execute_result"
    }
   ],
   "source": [
    "rscrambler.x(4,4)"
   ]
  },
  {
   "cell_type": "code",
   "execution_count": 104,
   "metadata": {},
   "outputs": [
    {
     "data": {
      "image/png": "[encoded data removed]",
      "text/plain": [
       "<Figure size 864x864 with 1 Axes>"
      ]
     },
     "metadata": {
      "needs_background": "light"
     },
     "output_type": "display_data"
    }
   ],
   "source": [
    "image = LayeredImage()\n",
    "image.add_layer(Square(0, 0, 1.8), color, domain=tscrambler)\n",
    "image(1080, 1080);"
   ]
  },
  {
   "cell_type": "code",
   "execution_count": null,
   "metadata": {},
   "outputs": [],
   "source": []
  }
 ],
 "metadata": {
  "kernelspec": {
   "display_name": "Python 3",
   "language": "python",
   "name": "python3"
  },
  "language_info": {
   "codemirror_mode": {
    "name": "ipython",
    "version": 3
   },
   "file_extension": ".py",
   "mimetype": "text/x-python",
   "name": "python",
   "nbconvert_exporter": "python",
   "pygments_lexer": "ipython3",
   "version": "3.7.0"
  }
 },
 "nbformat": 4,
 "nbformat_minor": 2
}
