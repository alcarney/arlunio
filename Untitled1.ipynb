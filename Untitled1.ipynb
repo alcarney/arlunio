{
 "cells": [
  {
   "cell_type": "code",
   "execution_count": 1,
   "metadata": {},
   "outputs": [],
   "source": [
    "from stylo.image import LayeredImage\n",
    "from stylo.domain.transform import translate\n",
    "from stylo.color import FillColor\n",
    "from stylo.shape import Circle, Rectangle, Triangle\n",
    "%matplotlib inline"
   ]
  },
  {
   "cell_type": "code",
   "execution_count": 2,
   "metadata": {},
   "outputs": [],
   "source": [
    "black = FillColor(\"000000\")\n",
    "seablue = FillColor(\"0000ff\")\n",
    "white = FillColor(\"ffffff\")\n",
    "yellow = FillColor(\"ffff00\")\n",
    "red = FillColor(\"dd2300\")"
   ]
  },
  {
   "cell_type": "code",
   "execution_count": 3,
   "metadata": {},
   "outputs": [],
   "source": [
    "sun = Circle(-7, 3.4, 1.5)\n",
    "sea = Circle(0, -55, 55)\n",
    "sails = Triangle((0.1, 0.6), (2.5, 0.6), (0.1, 3.5)) | Triangle((-0.1, 0.6), (-1.5, 0.6), (-0.1, 3.5))\n",
    "boat = Rectangle(0, 0, 3.5, 1) | Triangle((1.75, -0.5), (1.75, 0.5), (2.25, 0.5))\n",
    "mast = Rectangle(0, 2, 0.125, 3)"
   ]
  },
  {
   "cell_type": "code",
   "execution_count": 4,
   "metadata": {},
   "outputs": [],
   "source": [
    "boat = boat >> translate(0, -2)\n",
    "sails = sails >> translate(0, -2)\n",
    "mast = mast >> translate(0, -2)"
   ]
  },
  {
   "cell_type": "code",
   "execution_count": 5,
   "metadata": {},
   "outputs": [
    {
     "data": {
      "image/png": "[encoded data removed]",
      "text/plain": [
       "<Figure size 864x864 with 1 Axes>"
      ]
     },
     "metadata": {
      "needs_background": "light"
     },
     "output_type": "display_data"
    }
   ],
   "source": [
    "image = LayeredImage(background=\"99ddee\", scale=8)\n",
    "\n",
    "image.add_layer(sun, yellow)\n",
    "image.add_layer(sea, seablue)\n",
    "image.add_layer(boat, red)\n",
    "image.add_layer(mast, black)\n",
    "image.add_layer(sails, white)\n",
    "\n",
    "image(1920, 1080);"
   ]
  },
  {
   "cell_type": "code",
   "execution_count": null,
   "metadata": {},
   "outputs": [],
   "source": []
  },
  {
   "cell_type": "code",
   "execution_count": null,
   "metadata": {},
   "outputs": [],
   "source": []
  }
 ],
 "metadata": {
  "kernelspec": {
   "display_name": "Python 3",
   "language": "python",
   "name": "python3"
  },
  "language_info": {
   "codemirror_mode": {
    "name": "ipython",
    "version": 3
   },
   "file_extension": ".py",
   "mimetype": "text/x-python",
   "name": "python",
   "nbconvert_exporter": "python",
   "pygments_lexer": "ipython3",
   "version": "3.7.0"
  }
 },
 "nbformat": 4,
 "nbformat_minor": 2
}
