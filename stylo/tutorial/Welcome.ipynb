{
 "cells": [
  {
   "cell_type": "markdown",
   "metadata": {},
   "source": [
    "# Welcome\n",
    "\n",
    "Congratulations! By successfully launching this tutorial you have taken your first step towards making your first masterpiece! If this is your first time running the tutorial be sure to take the time to read through this page to help ensure that you get the most out of it.\n",
    "\n",
    "However before we go any further it is worth checking that stylo has been properly set up, so click on the cell below and run it (by clicking on the play button in the toolbar, or by hitting `Shift + Enter` on your keyboard). Assuming that everything works as expected, you should see the version number for stylo be printed out just below the cell."
   ]
  },
  {
   "cell_type": "code",
   "execution_count": null,
   "metadata": {},
   "outputs": [],
   "source": [
    "import stylo\n",
    "stylo.__version__"
   ]
  },
  {
   "cell_type": "markdown",
   "metadata": {},
   "source": [
    "## Finding your way around\n",
    "\n",
    "This tutorial is broken down into a number of sections each focused on a certain aspect of stylo. Each of the sections are self contained so feel free to jump around whichever seem the most interesting to you. The sections are made up from a number of examples and short exercises which aim to demonstrate the core ideas and how they are used in practise. \n",
    "\n",
    "Currently the following sections are available:\n",
    "\n",
    "- **The Basics:** If you are new to stylo start here. In this section we cover the difference between shapes and images as well as creating images out of a number of shapes"
   ]
  },
  {
   "cell_type": "markdown",
   "metadata": {},
   "source": [
    "## How to use the tutorial\n",
    "\n",
    "You are free to play around with and change **any** of the code you see here in this tutorial - in fact we enourage it! The only way you are truly going to develop an intuition for how the various concepts in stylo interact is to experiment. Don't worry about breaking anything either, if you ever get to the point where you wish you could start over you can! At any time you can relaunch the tutorial with the command `stylo tutorial --reset` which will reset **everything** back to its default state so that you can start fresh. \n",
    "\n",
    "**This command will revert any changes you make to the tutorial - including deleting any additional notebooks you have created. Be sure to back anything up you wish to save before running this command.**"
   ]
  },
  {
   "cell_type": "code",
   "execution_count": null,
   "metadata": {},
   "outputs": [],
   "source": []
  }
 ],
 "metadata": {
  "kernelspec": {
   "display_name": "Python 3",
   "language": "python",
   "name": "python3"
  },
  "language_info": {
   "codemirror_mode": {
    "name": "ipython",
    "version": 3
   },
   "file_extension": ".py",
   "mimetype": "text/x-python",
   "name": "python",
   "nbconvert_exporter": "python",
   "pygments_lexer": "ipython3",
   "version": "3.7.3"
  }
 },
 "nbformat": 4,
 "nbformat_minor": 2
}
